{
 "cells": [
  {
   "cell_type": "code",
   "execution_count": null,
   "metadata": {},
   "outputs": [],
   "source": [
    "## GPT를 활용해서 Few shot inference를 수행합니다.\n",
    "## 하나의 data 생성에 30초정도 걸립니다... korquad의 unique한 context 9000개를 활용해서 \n",
    "## 문제를 제작할 경우 약 16시간정도의 시간이 걸립니다.\n",
    "import openai\n",
    "from datasets import load_dataset\n",
    "import pandas as pd\n",
    "import numpy as np\n",
    "from ast import literal_eval\n",
    "\n",
    "client = openai.OpenAI(\n",
    "    api_key='YOUR API KEY'\n",
    ")\n"
   ]
  },
  {
   "cell_type": "code",
   "execution_count": 16,
   "metadata": {},
   "outputs": [],
   "source": [
    "import unicodedata\n",
    "\n",
    "def normalize_unicode(text):\n",
    "    # 유니코드 문자열을 ASCII로 정규화\n",
    "    return unicodedata.normalize(\"NFKD\", text)\n",
    "\n",
    "def generate(row):\n",
    "    response = client.chat.completions.create(\n",
    "        model=\"gpt-4o\",\n",
    "        messages=[\n",
    "            {\n",
    "                \"role\": \"system\",\n",
    "                \"content\": \"\"\"당신은 문제의 해설을 작성하는 수능 출제자입니다.\n",
    "                               paragraph와 question을 읽고 answer에 대한 근거를 작성하세요.\n",
    "                               형식 외에 다른 출력을 내보내지 마세요.\n",
    "                               반드시 근거는 200자 이내로 작성하세요.\n",
    "                               반드시 근거 : 내용 형식을 사용하세요.\n",
    "                               \"\"\",\n",
    "            },\n",
    "            {\n",
    "                \"role\": \"user\",\n",
    "                \"content\": f\"\"\" paragraph : {row['paragraph']}\n",
    "                                question : {row['question']}\n",
    "                                answer : {row['answer']}\n",
    "                                근거 : [model output]\n",
    "                            \"\"\"\n",
    "            },\n",
    "        ],\n",
    "    )\n",
    "    response = response.choices[0].message.content.strip()\n",
    "    row = {\n",
    "        \"id\": f\"yongari_generate_{int(str(abs(hash(row['paragraph'])))[:5])}\",\n",
    "        \"paragraph\": row['paragraph'],\n",
    "        \"problems\": row['problems'],\n",
    "        \"klue\" : response +' # '+str(row['answer']),\n",
    "        \"question_plus\": np.nan,\n",
    "\n",
    "    }\n",
    "    return row\n"
   ]
  },
  {
   "cell_type": "code",
   "execution_count": 17,
   "metadata": {},
   "outputs": [
    {
     "name": "stderr",
     "output_type": "stream",
     "text": [
      "2031it [1:07:29,  1.99s/it]\n"
     ]
    }
   ],
   "source": [
    "from tqdm import tqdm\n",
    "from ast import literal_eval\n",
    "data = pd.read_csv('datas/train.csv')\n",
    "\n",
    "data['dic'] = data['problems'].apply(lambda x: literal_eval(x))\n",
    "data['question'] = data['dic'].apply(lambda x: x['question'])\n",
    "data['answer'] = data['dic'].apply(lambda x: x['answer'])\n",
    "generated = []\n",
    "for idx, row in tqdm(data.iterrows()):\n",
    "    generated.append(generate(row))\n",
    "\n",
    "generated = pd.DataFrame(generated)"
   ]
  },
  {
   "cell_type": "code",
   "execution_count": 24,
   "metadata": {},
   "outputs": [],
   "source": [
    "generated.to_csv('train+klue.csv', index = False)"
   ]
  },
  {
   "cell_type": "code",
   "execution_count": null,
   "metadata": {},
   "outputs": [],
   "source": []
  }
 ],
 "metadata": {
  "kernelspec": {
   "display_name": "base",
   "language": "python",
   "name": "python3"
  },
  "language_info": {
   "codemirror_mode": {
    "name": "ipython",
    "version": 3
   },
   "file_extension": ".py",
   "mimetype": "text/x-python",
   "name": "python",
   "nbconvert_exporter": "python",
   "pygments_lexer": "ipython3",
   "version": "3.10.13"
  }
 },
 "nbformat": 4,
 "nbformat_minor": 2
}
